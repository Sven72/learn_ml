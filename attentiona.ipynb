{
  "nbformat": 4,
  "nbformat_minor": 0,
  "metadata": {
    "colab": {
      "provenance": [],
      "authorship_tag": "ABX9TyPdouTuoUtCzTNYo72aiV9e",
      "include_colab_link": true
    },
    "kernelspec": {
      "name": "python3",
      "display_name": "Python 3"
    },
    "language_info": {
      "name": "python"
    },
    "accelerator": "GPU",
    "gpuClass": "standard"
  },
  "cells": [
    {
      "cell_type": "markdown",
      "metadata": {
        "id": "view-in-github",
        "colab_type": "text"
      },
      "source": [
        "<a href=\"https://colab.research.google.com/github/Sven72/learn_ml/blob/main/attentiona.ipynb\" target=\"_parent\"><img src=\"https://colab.research.google.com/assets/colab-badge.svg\" alt=\"Open In Colab\"/></a>"
      ]
    },
    {
      "cell_type": "code",
      "execution_count": 2,
      "metadata": {
        "id": "xqCwHaCj-ken"
      },
      "outputs": [],
      "source": [
        "#https://www.youtube.com/watch?v=U0s0f995w14\n",
        "import torch\n",
        "import torch.nn as nn"
      ]
    },
    {
      "cell_type": "code",
      "source": [
        "class SelfAttention(nn.Module):\n",
        "  def __init__(self, embed_size, heads):\n",
        "    super(SelfAttention,self).__init__()\n",
        "    self.embed_size = embed_size\n",
        "    self.heads = heads\n",
        "    self.head_dim = embed_size // heads\n",
        "\n",
        "    assert (self.head_dim * heads == embed_size), \"Embed size needs to be div by heads\"\n",
        "\n",
        "    self.values = nn.Linear(self.head_dim, self.head_dim, bias = False)\n",
        "    self.keys = nn.Linear(self.head_dim, self.head_dim, bias = False)\n",
        "    self.queries = nn.Linear(self.head_dim, self.head_dim, bias = False)\n",
        "    self.fc_cut = nn.Linear(heads* self.head_dim, embed_size)\n",
        "\n",
        "  def forward(self, values, keys, query, mask):\n",
        "    N = query.shape[0]\n",
        "    value_len, key_len, query_len = values.shape[1], keys.shape[1], query.shape[1]\n",
        "\n",
        "    #split embedding into self.heads pieces\n",
        "    values = values.reshape(N, value_len, self.heads, self.head_dim)\n",
        "    keys = keys.reshape(N, key_len, sellf.heads, self.head_dim)\n",
        "    queries = query.reshape(N, key_len, self.heads, self.head_dim)\n",
        "\n",
        "    energy = torch.einsum(\"nqhd, nqhd->nhqk\", [queries, keys])\n",
        "    #queries shape: (N, query_len, heads, heads_dim)\n",
        "    #keys shape: (N, key_len, heads, heads_dim)\n",
        "    #energy shape: (N, heads, query_len, key_len)\n",
        "    "
      ],
      "metadata": {
        "id": "uGxGJd4Y-vz7"
      },
      "execution_count": null,
      "outputs": []
    }
  ]
}